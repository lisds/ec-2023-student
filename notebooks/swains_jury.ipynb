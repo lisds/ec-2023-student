{
 "cells": [
  {
   "cell_type": "code",
   "execution_count": 1,
   "id": "6c6586da-b059-4bd4-bf71-d92a93ee5e54",
   "metadata": {},
   "outputs": [],
   "source": [
    "# Get the Numpy library (module), rename to \"np\"\n",
    "import numpy as np"
   ]
  },
  {
   "cell_type": "code",
   "execution_count": 2,
   "id": "0b1d6bd9-a184-4aa7-b2d4-1051d14805a8",
   "metadata": {},
   "outputs": [],
   "source": [
    "# Make a (pseudo-)random number generator.\n",
    "rng = np.random.default_rng()"
   ]
  },
  {
   "cell_type": "code",
   "execution_count": 3,
   "id": "618ebc2e-7d73-408f-b536-7f3354cf4180",
   "metadata": {},
   "outputs": [
    {
     "data": {
      "text/plain": [
       "['Black', 'White']"
      ]
     },
     "execution_count": 3,
     "metadata": {},
     "output_type": "execute_result"
    }
   ],
   "source": [
    "# Build up to one trial.\n",
    "# We will choose from these two labels (strings).\n",
    "choices = ['Black', 'White']\n",
    "choices"
   ]
  },
  {
   "cell_type": "code",
   "execution_count": 4,
   "id": "30269eb5-f1e3-4c74-a690-04a489510721",
   "metadata": {},
   "outputs": [
    {
     "data": {
      "text/plain": [
       "2"
      ]
     },
     "execution_count": 4,
     "metadata": {},
     "output_type": "execute_result"
    }
   ],
   "source": [
    "len(choices)"
   ]
  },
  {
   "cell_type": "code",
   "execution_count": 5,
   "id": "9bd54704-8959-40b3-928f-260828f46b00",
   "metadata": {},
   "outputs": [
    {
     "data": {
      "text/plain": [
       "'Black'"
      ]
     },
     "execution_count": 5,
     "metadata": {},
     "output_type": "execute_result"
    }
   ],
   "source": [
    "# Ask the random number generator thing to choose at\n",
    "# random between the two choices.\n",
    "rng.choice(choices)"
   ]
  },
  {
   "cell_type": "code",
   "execution_count": 6,
   "id": "e9ca4cc8-abb1-4a22-b974-95bc9b284726",
   "metadata": {},
   "outputs": [
    {
     "data": {
      "text/plain": [
       "'White'"
      ]
     },
     "execution_count": 6,
     "metadata": {},
     "output_type": "execute_result"
    }
   ],
   "source": [
    "# Ask the random number generator thing to choose at\n",
    "# random between the two choices, but where it chooses\n",
    "# the first option ('Black') 26% of the time, and the second\n",
    "# ('White') 74% of the time.\n",
    "rng.choice(choices, p=[0.26, 0.74])"
   ]
  },
  {
   "cell_type": "code",
   "execution_count": 7,
   "id": "652170a5-0c89-473c-a19f-dd12b674ae1d",
   "metadata": {},
   "outputs": [
    {
     "data": {
      "text/plain": [
       "array(['White', 'Black', 'White', 'White', 'White', 'White', 'Black',\n",
       "       'White', 'White', 'White', 'White', 'Black'], dtype='<U5')"
      ]
     },
     "execution_count": 7,
     "metadata": {},
     "output_type": "execute_result"
    }
   ],
   "source": [
    "# As above, but now making 12 choices instead of 1.\n",
    "one_jury = rng.choice(choices, p=[0.26, 0.74], size=12)\n",
    "one_jury"
   ]
  },
  {
   "cell_type": "code",
   "execution_count": 8,
   "id": "8e56410c-473b-4af2-ae2a-f1df77e7e636",
   "metadata": {},
   "outputs": [
    {
     "data": {
      "text/plain": [
       "array([False,  True, False, False, False, False,  True, False, False,\n",
       "       False, False,  True])"
      ]
     },
     "execution_count": 8,
     "metadata": {},
     "output_type": "execute_result"
    }
   ],
   "source": [
    "# Ask the comparison question == 'Black' of the array.\n",
    "# We get a Boolean array in return.\n",
    "one_jury == 'Black'"
   ]
  },
  {
   "cell_type": "code",
   "execution_count": 9,
   "id": "48789519-e3e3-430e-bee2-caaa7de1466d",
   "metadata": {},
   "outputs": [
    {
     "data": {
      "text/plain": [
       "10"
      ]
     },
     "execution_count": 9,
     "metadata": {},
     "output_type": "execute_result"
    }
   ],
   "source": [
    "# A variable containing a simple number.\n",
    "a = 10\n",
    "a"
   ]
  },
  {
   "cell_type": "code",
   "execution_count": 10,
   "id": "60ee3590-288a-49c6-a552-1c69f71d67f0",
   "metadata": {},
   "outputs": [
    {
     "data": {
      "text/plain": [
       "True"
      ]
     },
     "execution_count": 10,
     "metadata": {},
     "output_type": "execute_result"
    }
   ],
   "source": [
    "# Asking a comparison question to which the answer is Yes (True)\n",
    "a == 10"
   ]
  },
  {
   "cell_type": "code",
   "execution_count": 11,
   "id": "a634a9af-21b0-47ae-aadd-e68b53daada1",
   "metadata": {},
   "outputs": [
    {
     "data": {
      "text/plain": [
       "False"
      ]
     },
     "execution_count": 11,
     "metadata": {},
     "output_type": "execute_result"
    }
   ],
   "source": [
    "# Asking a comparison question to which the answer is No (False)\n",
    "a == 11"
   ]
  },
  {
   "cell_type": "code",
   "execution_count": 12,
   "id": "536ae781-09bd-4eac-823b-af91e45e4bd2",
   "metadata": {},
   "outputs": [
    {
     "data": {
      "text/plain": [
       "array(['White', 'Black', 'White', 'White', 'White', 'White', 'Black',\n",
       "       'White', 'White', 'White', 'White', 'Black'], dtype='<U5')"
      ]
     },
     "execution_count": 12,
     "metadata": {},
     "output_type": "execute_result"
    }
   ],
   "source": [
    "# Reminder of our 12 randomly selected jurors.\n",
    "one_jury"
   ]
  },
  {
   "cell_type": "code",
   "execution_count": 13,
   "id": "c930a926-a6b2-4623-9f58-8a323511488c",
   "metadata": {},
   "outputs": [
    {
     "data": {
      "text/plain": [
       "array([False,  True, False, False, False, False,  True, False, False,\n",
       "       False, False,  True])"
      ]
     },
     "execution_count": 13,
     "metadata": {},
     "output_type": "execute_result"
    }
   ],
   "source": [
    "# Now ask the == 'Black' question of the jurors array.\n",
    "is_black = one_jury == 'Black'\n",
    "is_black"
   ]
  },
  {
   "cell_type": "code",
   "execution_count": 14,
   "id": "fb02b53b-c41c-4b33-909d-582cc474ddd9",
   "metadata": {},
   "outputs": [
    {
     "data": {
      "text/plain": [
       "3"
      ]
     },
     "execution_count": 14,
     "metadata": {},
     "output_type": "execute_result"
    }
   ],
   "source": [
    "# Show the number of True values in the is_black array.\n",
    "# This is the number of == 'Black' jurors (the number of Black\n",
    "# jurors).\n",
    "np.count_nonzero(is_black)"
   ]
  },
  {
   "cell_type": "code",
   "execution_count": 15,
   "id": "2de09f2e-2ae5-42e2-91ec-3ca11965afc9",
   "metadata": {},
   "outputs": [
    {
     "data": {
      "text/plain": [
       "3"
      ]
     },
     "execution_count": 15,
     "metadata": {},
     "output_type": "execute_result"
    }
   ],
   "source": [
    "# One whole trial in the simulated (no bias) world.\n",
    "# This is just the lines above, compiled into one cell.\n",
    "one_jury = rng.choice(choices, p=[0.26, 0.74], size=12)\n",
    "is_black = one_jury == 'Black'\n",
    "n_black = np.count_nonzero(is_black)\n",
    "n_black"
   ]
  },
  {
   "cell_type": "code",
   "execution_count": 16,
   "id": "a9dbae5d-dd0e-4beb-8eee-4cf5d4a06274",
   "metadata": {},
   "outputs": [
    {
     "data": {
      "text/plain": [
       "array([0., 0., 0., 0., 0., 0., 0., 0., 0., 0.])"
      ]
     },
     "execution_count": 16,
     "metadata": {},
     "output_type": "execute_result"
    }
   ],
   "source": [
    "# An array of zeros, into which we will put the results of 10\n",
    "# trials.\n",
    "results = np.zeros(10)\n",
    "results"
   ]
  },
  {
   "cell_type": "code",
   "execution_count": 17,
   "id": "b2788a79-8804-44ad-8396-7498badc897f",
   "metadata": {},
   "outputs": [
    {
     "name": "stdout",
     "output_type": "stream",
     "text": [
      "We are currently running trial number 0\n",
      "The jury for this trial was ['Black' 'White' 'White' 'Black' 'White' 'Black' 'Black' 'Black' 'Black'\n",
      " 'White' 'White' 'White']\n",
      "The number of black jurors was 6\n",
      "The results array at this stage is [6. 0. 0. 0. 0. 0. 0. 0. 0. 0.]\n",
      "We are currently running trial number 1\n",
      "The jury for this trial was ['White' 'Black' 'Black' 'White' 'White' 'White' 'White' 'White' 'White'\n",
      " 'White' 'White' 'White']\n",
      "The number of black jurors was 2\n",
      "The results array at this stage is [6. 2. 0. 0. 0. 0. 0. 0. 0. 0.]\n",
      "We are currently running trial number 2\n",
      "The jury for this trial was ['White' 'White' 'White' 'White' 'White' 'White' 'White' 'White' 'White'\n",
      " 'Black' 'White' 'White']\n",
      "The number of black jurors was 1\n",
      "The results array at this stage is [6. 2. 1. 0. 0. 0. 0. 0. 0. 0.]\n",
      "We are currently running trial number 3\n",
      "The jury for this trial was ['White' 'White' 'White' 'White' 'Black' 'White' 'Black' 'White' 'Black'\n",
      " 'White' 'White' 'White']\n",
      "The number of black jurors was 3\n",
      "The results array at this stage is [6. 2. 1. 3. 0. 0. 0. 0. 0. 0.]\n",
      "We are currently running trial number 4\n",
      "The jury for this trial was ['White' 'Black' 'White' 'White' 'Black' 'White' 'White' 'White' 'Black'\n",
      " 'Black' 'White' 'White']\n",
      "The number of black jurors was 4\n",
      "The results array at this stage is [6. 2. 1. 3. 4. 0. 0. 0. 0. 0.]\n",
      "We are currently running trial number 5\n",
      "The jury for this trial was ['White' 'White' 'White' 'White' 'White' 'Black' 'White' 'White' 'White'\n",
      " 'Black' 'Black' 'White']\n",
      "The number of black jurors was 3\n",
      "The results array at this stage is [6. 2. 1. 3. 4. 3. 0. 0. 0. 0.]\n",
      "We are currently running trial number 6\n",
      "The jury for this trial was ['Black' 'White' 'White' 'White' 'White' 'White' 'White' 'White' 'Black'\n",
      " 'White' 'Black' 'White']\n",
      "The number of black jurors was 3\n",
      "The results array at this stage is [6. 2. 1. 3. 4. 3. 3. 0. 0. 0.]\n",
      "We are currently running trial number 7\n",
      "The jury for this trial was ['White' 'Black' 'Black' 'Black' 'White' 'White' 'White' 'White' 'White'\n",
      " 'White' 'White' 'White']\n",
      "The number of black jurors was 3\n",
      "The results array at this stage is [6. 2. 1. 3. 4. 3. 3. 3. 0. 0.]\n",
      "We are currently running trial number 8\n",
      "The jury for this trial was ['White' 'Black' 'White' 'Black' 'White' 'White' 'Black' 'White' 'Black'\n",
      " 'Black' 'White' 'Black']\n",
      "The number of black jurors was 6\n",
      "The results array at this stage is [6. 2. 1. 3. 4. 3. 3. 3. 6. 0.]\n",
      "We are currently running trial number 9\n",
      "The jury for this trial was ['White' 'Black' 'White' 'White' 'White' 'White' 'White' 'Black' 'White'\n",
      " 'White' 'White' 'White']\n",
      "The number of black jurors was 2\n",
      "The results array at this stage is [6. 2. 1. 3. 4. 3. 3. 3. 6. 2.]\n"
     ]
    }
   ],
   "source": [
    "# The procedure for 10 trials.\n",
    "results = np.zeros(10)\n",
    "for i in np.arange(10):\n",
    "    print(\"We are currently running trial number\", i)\n",
    "    # Procedure for one trial, in body of for loop.\n",
    "    # This is nothing but the trial procedure above, indented.\n",
    "    # One trial in the simulated (no bias) world.\n",
    "    one_jury = rng.choice(choices, p=[0.26, 0.74], size=12)\n",
    "    print(\"The jury for this trial was\", one_jury)\n",
    "    is_black = one_jury == 'Black'\n",
    "    n_black = np.count_nonzero(is_black)\n",
    "    print(\"The number of black jurors was\", n_black)\n",
    "    results[i] = n_black\n",
    "    print(\"The results array at this stage is\", results)"
   ]
  },
  {
   "cell_type": "code",
   "execution_count": 18,
   "id": "1003f610-131b-4af8-a2c6-1a29988e7039",
   "metadata": {},
   "outputs": [
    {
     "data": {
      "text/plain": [
       "array([2., 5., 1., 2., 2., 6., 2., 8., 5., 4.])"
      ]
     },
     "execution_count": 18,
     "metadata": {},
     "output_type": "execute_result"
    }
   ],
   "source": [
    "# 10,000 trials.\n",
    "n = 10_000\n",
    "results = np.zeros(n)\n",
    "for i in np.arange(n):\n",
    "    # Procedure for one trial, in body of for loop.\n",
    "    # One trial in the simulated (no bias) world.\n",
    "    one_jury = rng.choice(choices, p=[0.26, 0.74], size=12)\n",
    "    is_black = one_jury == 'Black'\n",
    "    n_black = np.count_nonzero(is_black)\n",
    "    results[i] = n_black\n",
    "# Show the first 10 of the numbers\n",
    "results[:10]"
   ]
  },
  {
   "cell_type": "code",
   "execution_count": 19,
   "id": "f5b09188-aee4-40cf-abe8-6bff3f92d1ac",
   "metadata": {},
   "outputs": [
    {
     "data": {
      "text/plain": [
       "array([2., 5., 1., ..., 3., 3., 4.])"
      ]
     },
     "execution_count": 19,
     "metadata": {},
     "output_type": "execute_result"
    }
   ],
   "source": [
    "# Show the array (notice Numpy only shows the first and last 3\n",
    "# by default).\n",
    "results"
   ]
  },
  {
   "cell_type": "code",
   "execution_count": 20,
   "id": "503304bf-f64d-45d6-bda4-0c5642109c84",
   "metadata": {},
   "outputs": [
    {
     "data": {
      "text/plain": [
       "array([4., 3., 0., 3., 5., 2., 5., 3., 3., 4.])"
      ]
     },
     "execution_count": 20,
     "metadata": {},
     "output_type": "execute_result"
    }
   ],
   "source": [
    "# The last 10 values of the array.\n",
    "results[-10:]"
   ]
  },
  {
   "cell_type": "code",
   "execution_count": 21,
   "id": "6f7015bc-3cf6-44aa-9cda-85a961ef12a3",
   "metadata": {},
   "outputs": [
    {
     "data": {
      "text/plain": [
       "10000"
      ]
     },
     "execution_count": 21,
     "metadata": {},
     "output_type": "execute_result"
    }
   ],
   "source": [
    "len(results)"
   ]
  },
  {
   "cell_type": "code",
   "execution_count": 22,
   "id": "f1110974-6bfc-4cde-9c4b-412bf4494be7",
   "metadata": {},
   "outputs": [
    {
     "data": {
      "text/plain": [
       "Text(0, 0.5, 'Number of times the count appeared in simulation')"
      ]
     },
     "execution_count": 22,
     "metadata": {},
     "output_type": "execute_result"
    },
    {
     "data": {
      "image/png": "[encoded data removed]",
      "text/plain": [
       "<Figure size 640x480 with 1 Axes>"
      ]
     },
     "metadata": {},
     "output_type": "display_data"
    }
   ],
   "source": [
    "import matplotlib.pyplot as plt\n",
    "plt.hist(results, bins=np.arange(0, 13))\n",
    "plt.title('Sampling distribution of Black jurors')\n",
    "plt.xlabel('Count of Black jurors')\n",
    "plt.ylabel('Number of times the count appeared in simulation')"
   ]
  },
  {
   "cell_type": "code",
   "execution_count": 23,
   "id": "7d40337a-f5b7-4d0b-b592-11007d2a425a",
   "metadata": {},
   "outputs": [
    {
     "data": {
      "text/plain": [
       "3.1145"
      ]
     },
     "execution_count": 23,
     "metadata": {},
     "output_type": "execute_result"
    }
   ],
   "source": [
    "# The average number of Black jurors.\n",
    "np.mean(results)"
   ]
  },
  {
   "cell_type": "code",
   "execution_count": 24,
   "id": "63ce56b1-46e8-4803-8223-6995bf42cb17",
   "metadata": {},
   "outputs": [
    {
     "data": {
      "text/plain": [
       "array([False, False, False, ..., False, False, False])"
      ]
     },
     "execution_count": 24,
     "metadata": {},
     "output_type": "execute_result"
    }
   ],
   "source": [
    "# Boolean array with 10,000 values, where the element is True\n",
    "# if the corresponding result element is 0, False otherwise.\n",
    "results_equal_zero = results == 0\n",
    "results_equal_zero"
   ]
  },
  {
   "cell_type": "code",
   "execution_count": 25,
   "id": "f9fb5c63-4f9d-409b-ac93-49cd254bf1b4",
   "metadata": {},
   "outputs": [
    {
     "data": {
      "text/plain": [
       "272"
      ]
     },
     "execution_count": 25,
     "metadata": {},
     "output_type": "execute_result"
    }
   ],
   "source": [
    "number_of_zeros = np.count_nonzero(results_equal_zero)\n",
    "number_of_zeros"
   ]
  },
  {
   "cell_type": "code",
   "execution_count": 26,
   "id": "148122ad-3e57-4bad-becc-a4cea8fb73a0",
   "metadata": {},
   "outputs": [
    {
     "data": {
      "text/plain": [
       "0.0272"
      ]
     },
     "execution_count": 26,
     "metadata": {},
     "output_type": "execute_result"
    }
   ],
   "source": [
    "# The probability estimate\n",
    "# Probability of seeing 0 in a world with no bias, 26% chance that\n",
    "# any one juror will be Black.\n",
    "p = number_of_zeros / 10000\n",
    "p"
   ]
  }
 ],
 "metadata": {
  "jupytext": {
   "notebook_metadata_filter": "all,-language_info",
   "split_at_heading": true
  },
  "kernelspec": {
   "display_name": "Python 3 (ipykernel)",
   "language": "python",
   "name": "python3"
  },
  "language_info": {
   "codemirror_mode": {
    "name": "ipython",
    "version": 3
   },
   "file_extension": ".py",
   "mimetype": "text/x-python",
   "name": "python",
   "nbconvert_exporter": "python",
   "pygments_lexer": "ipython3",
   "version": "3.11.6"
  }
 },
 "nbformat": 4,
 "nbformat_minor": 5
}
